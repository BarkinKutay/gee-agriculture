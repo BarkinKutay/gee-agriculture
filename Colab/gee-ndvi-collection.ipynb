{
 "cells": [
  {
   "cell_type": "code",
   "execution_count": 1,
   "metadata": {},
   "outputs": [],
   "source": [
    "import ee\n",
    "import geemap"
   ]
  },
  {
   "cell_type": "code",
   "execution_count": null,
   "metadata": {},
   "outputs": [],
   "source": [
    "ee.Authenticate()"
   ]
  },
  {
   "cell_type": "code",
   "execution_count": 2,
   "metadata": {
    "tags": [
     "parameters"
    ]
   },
   "outputs": [
    {
     "data": {
      "text/html": [
       "\n",
       "            <style>\n",
       "                .geemap-dark {\n",
       "                    --jp-widgets-color: white;\n",
       "                    --jp-widgets-label-color: white;\n",
       "                    --jp-ui-font-color1: white;\n",
       "                    --jp-layout-color2: #454545;\n",
       "                    background-color: #383838;\n",
       "                }\n",
       "                    \n",
       "                .geemap-dark .jupyter-button {\n",
       "                    --jp-layout-color3: #383838;\n",
       "                }\n",
       "                \n",
       "                .geemap-colab {\n",
       "                    background-color: var(--colab-primary-surface-color, white);\n",
       "                }\n",
       "                    \n",
       "                .geemap-colab .jupyter-button {\n",
       "                    --jp-layout-color3: var(--colab-primary-surface-color, white);\n",
       "                }\n",
       "            </style>\n",
       "            "
      ],
      "text/plain": [
       "<IPython.core.display.HTML object>"
      ]
     },
     "metadata": {},
     "output_type": "display_data"
    }
   ],
   "source": [
    "ee.Initialize(project=\"ee-bau-tubitak-ndvi\")\n",
    "parsel_data = ee.FeatureCollection(\"projects/ee-bau-tubitak-ndvi/assets/DestekParselleri\")\n",
    "image_data = ee.ImageCollection(\"COPERNICUS/S2\")"
   ]
  },
  {
   "cell_type": "code",
   "execution_count": 21,
   "metadata": {},
   "outputs": [
    {
     "data": {
      "text/html": [
       "\n",
       "            <style>\n",
       "                .geemap-dark {\n",
       "                    --jp-widgets-color: white;\n",
       "                    --jp-widgets-label-color: white;\n",
       "                    --jp-ui-font-color1: white;\n",
       "                    --jp-layout-color2: #454545;\n",
       "                    background-color: #383838;\n",
       "                }\n",
       "                    \n",
       "                .geemap-dark .jupyter-button {\n",
       "                    --jp-layout-color3: #383838;\n",
       "                }\n",
       "                \n",
       "                .geemap-colab {\n",
       "                    background-color: var(--colab-primary-surface-color, white);\n",
       "                }\n",
       "                    \n",
       "                .geemap-colab .jupyter-button {\n",
       "                    --jp-layout-color3: var(--colab-primary-surface-color, white);\n",
       "                }\n",
       "            </style>\n",
       "            "
      ],
      "text/plain": [
       "<IPython.core.display.HTML object>"
      ]
     },
     "metadata": {},
     "output_type": "display_data"
    }
   ],
   "source": [
    "def add_ndvi(input_image):\n",
    "    nd = input_image.normalizedDifference([\"B8\", \"B4\"]).rename(\"ndvi\")\n",
    "    return input_image.addBands(nd)\n",
    "\n",
    "def get_monthly_ImageCollection(year): \n",
    "\n",
    "    imageCollection = ee.ImageCollection([])\n",
    "\n",
    "    for month in range(month_range):\n",
    "        start_date = ee.Date.fromYMD(year, month+1, 1)\n",
    "        end_date = start_date.advance(1, \"month\")\n",
    "\n",
    "        image = (image_data \n",
    "            .filterDate(start_date, end_date)\n",
    "            .map(add_ndvi)\n",
    "            .median()\n",
    "            .select(\"ndvi\"))\n",
    "        \n",
    "        image = image.set(\"month\", str(month))\n",
    "        imageCollection = imageCollection.merge(ee.ImageCollection([image]))\n",
    "\n",
    "    return imageCollection\n",
    "\n",
    "def featureCollection_init(feature):\n",
    "    tarimParse = feature.get(\"TarimParse\")\n",
    "    geometry = feature.geometry()\n",
    "    return ee.Feature(geometry).set(\"TarimParse\", tarimParse).set(\"mean_ndvi\", [])\n",
    "\n",
    "def collect_data(image, database):\n",
    "\n",
    "    def feature_function(feature):\n",
    "        mean_ndvi = image.reduceRegion(\n",
    "            reducer=ee.Reducer.mean(),\n",
    "            geometry=feature.geometry(),\n",
    "            scale=30,\n",
    "            maxPixels=1e9\n",
    "        ).get(\"ndvi\")\n",
    "        \n",
    "        mean_ndvi_array = ee.List(feature.get(\"mean_ndvi\"))\n",
    "        mean_ndvi_array = mean_ndvi_array.add(mean_ndvi)\n",
    "        feature = feature.set(\"mean_ndvi\", mean_ndvi_array)\n",
    "        return feature\n",
    "    \n",
    "    return database.map(feature_function)\n",
    "\n",
    "def process(database, image_collection):\n",
    "    return image_collection.map(lambda image: collect_data(image, database))\n"
   ]
  },
  {
   "cell_type": "code",
   "execution_count": 22,
   "metadata": {},
   "outputs": [
    {
     "data": {
      "text/html": [
       "\n",
       "            <style>\n",
       "                .geemap-dark {\n",
       "                    --jp-widgets-color: white;\n",
       "                    --jp-widgets-label-color: white;\n",
       "                    --jp-ui-font-color1: white;\n",
       "                    --jp-layout-color2: #454545;\n",
       "                    background-color: #383838;\n",
       "                }\n",
       "                    \n",
       "                .geemap-dark .jupyter-button {\n",
       "                    --jp-layout-color3: #383838;\n",
       "                }\n",
       "                \n",
       "                .geemap-colab {\n",
       "                    background-color: var(--colab-primary-surface-color, white);\n",
       "                }\n",
       "                    \n",
       "                .geemap-colab .jupyter-button {\n",
       "                    --jp-layout-color3: var(--colab-primary-surface-color, white);\n",
       "                }\n",
       "            </style>\n",
       "            "
      ],
      "text/plain": [
       "<IPython.core.display.HTML object>"
      ]
     },
     "metadata": {},
     "output_type": "display_data"
    }
   ],
   "source": [
    "count = 50\n",
    "database = parsel_data.limit(count).distinct(\"TarimParse\").map(featureCollection_init)\n"
   ]
  },
  {
   "cell_type": "code",
   "execution_count": 23,
   "metadata": {},
   "outputs": [
    {
     "data": {
      "text/html": [
       "\n",
       "            <style>\n",
       "                .geemap-dark {\n",
       "                    --jp-widgets-color: white;\n",
       "                    --jp-widgets-label-color: white;\n",
       "                    --jp-ui-font-color1: white;\n",
       "                    --jp-layout-color2: #454545;\n",
       "                    background-color: #383838;\n",
       "                }\n",
       "                    \n",
       "                .geemap-dark .jupyter-button {\n",
       "                    --jp-layout-color3: #383838;\n",
       "                }\n",
       "                \n",
       "                .geemap-colab {\n",
       "                    background-color: var(--colab-primary-surface-color, white);\n",
       "                }\n",
       "                    \n",
       "                .geemap-colab .jupyter-button {\n",
       "                    --jp-layout-color3: var(--colab-primary-surface-color, white);\n",
       "                }\n",
       "            </style>\n",
       "            "
      ],
      "text/plain": [
       "<IPython.core.display.HTML object>"
      ]
     },
     "metadata": {},
     "output_type": "display_data"
    }
   ],
   "source": [
    "month_range = 12\n",
    "year = 2018\n",
    "\n",
    "image_collection = get_monthly_ImageCollection(year)\n",
    "database = process(database, image_collection)\n"
   ]
  },
  {
   "cell_type": "code",
   "execution_count": 24,
   "metadata": {},
   "outputs": [
    {
     "data": {
      "text/html": [
       "\n",
       "            <style>\n",
       "                .geemap-dark {\n",
       "                    --jp-widgets-color: white;\n",
       "                    --jp-widgets-label-color: white;\n",
       "                    --jp-ui-font-color1: white;\n",
       "                    --jp-layout-color2: #454545;\n",
       "                    background-color: #383838;\n",
       "                }\n",
       "                    \n",
       "                .geemap-dark .jupyter-button {\n",
       "                    --jp-layout-color3: #383838;\n",
       "                }\n",
       "                \n",
       "                .geemap-colab {\n",
       "                    background-color: var(--colab-primary-surface-color, white);\n",
       "                }\n",
       "                    \n",
       "                .geemap-colab .jupyter-button {\n",
       "                    --jp-layout-color3: var(--colab-primary-surface-color, white);\n",
       "                }\n",
       "            </style>\n",
       "            "
      ],
      "text/plain": [
       "<IPython.core.display.HTML object>"
      ]
     },
     "metadata": {},
     "output_type": "display_data"
    }
   ],
   "source": [
    "export_params = {\n",
    "    'collection': database,\n",
    "    'description': \"jpybn_export\",\n",
    "    'folder': \"dosya_1\",\n",
    "    'fileNamePrefix': \"jpybn_export(1)\",\n",
    "    'fileFormat': 'CSV'\n",
    "}\n",
    "\n",
    "task = ee.batch.Export.table.toDrive(**export_params)\n",
    "task.start()"
   ]
  }
 ],
 "metadata": {
  "kernelspec": {
   "display_name": "Python 3",
   "language": "python",
   "name": "python3"
  },
  "language_info": {
   "codemirror_mode": {
    "name": "ipython",
    "version": 3
   },
   "file_extension": ".py",
   "mimetype": "text/x-python",
   "name": "python",
   "nbconvert_exporter": "python",
   "pygments_lexer": "ipython3",
   "version": "3.9.13"
  }
 },
 "nbformat": 4,
 "nbformat_minor": 2
}
