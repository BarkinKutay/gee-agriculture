{
 "cells": [
  {
   "cell_type": "code",
   "execution_count": 1,
   "metadata": {},
   "outputs": [],
   "source": [
    "import ee\n",
    "import geemap"
   ]
  },
  {
   "cell_type": "code",
   "execution_count": null,
   "metadata": {},
   "outputs": [],
   "source": [
    "ee.Authenticate()"
   ]
  },
  {
   "cell_type": "code",
   "execution_count": null,
   "metadata": {
    "tags": []
   },
   "outputs": [],
   "source": [
    "ee.Initialize(project=\"ee-bau-tubitak-ndvi\")"
   ]
  },
  {
   "cell_type": "code",
   "execution_count": null,
   "metadata": {},
   "outputs": [],
   "source": [
    "parsel_data = ee.FeatureCollection(\"projects/ee-bau-tubitak-ndvi/assets/DestekParselleri\")\n",
    "image_data = ee.ImageCollection(\"COPERNICUS/S2\")\n",
    "year = 2018\n",
    "month = 1"
   ]
  },
  {
   "cell_type": "code",
   "execution_count": null,
   "metadata": {},
   "outputs": [],
   "source": [
    "def mask_clouds(image):\n",
    "    QA60 = image.select([\"QA60\"])\n",
    "    cloud_mask = QA60.bitwiseAnd(1 << 10).eq(0)\n",
    "    return image.updateMask(cloud_mask)\n",
    "\n",
    "def add_ndvi(input_image):\n",
    "    nd = input_image.normalizedDifference([\"B8\", \"B4\"]).rename(\"ndvi\")\n",
    "    return input_image.addBands(nd)"
   ]
  },
  {
   "cell_type": "code",
   "execution_count": null,
   "metadata": {},
   "outputs": [],
   "source": [
    "roi = parsel_data.geometry().convexHull()\n",
    "roi_outline = ee.Image().paint(roi, 0, 1)\n",
    "start_date = ee.Date.fromYMD(year, month, 1)\n",
    "end_date = start_date.advance(1, \"month\")\n",
    "\n",
    "rgb_viz_params = {\n",
    "    \"bands\": [\"B4\", \"B3\", \"B2\"],\n",
    "    \"min\": 0,\n",
    "    \"max\": 3000\n",
    "}\n",
    "\n",
    "ndvi_viz_params = {\n",
    "    \"min\": -1,\n",
    "    \"max\": 1,\n",
    "    \"palette\": [\"red\", \"white\", \"green\"],\n",
    "}"
   ]
  },
  {
   "cell_type": "code",
   "execution_count": null,
   "metadata": {},
   "outputs": [],
   "source": [
    "image = image_data \\\n",
    "    .filterDate(start_date, end_date) \\\n",
    "    .filterBounds(roi) \\\n",
    "    .map(add_ndvi) \\\n",
    "    .map(mask_clouds) \\\n",
    "    .median()"
   ]
  },
  {
   "cell_type": "code",
   "execution_count": null,
   "metadata": {},
   "outputs": [],
   "source": [
    "Map = geemap.Map()\n",
    "\n",
    "Map.add_layer(image, rgb_viz_params, \"RGB Layer\")\n",
    "Map.add_layer(image.select(\"ndvi\"), ndvi_viz_params, \"Ndvi Layer\")\n",
    "Map.addLayer(roi_outline, {\"palette\": \"Red\"}, \"Roi\")\n",
    "Map.centerObject(roi, 12)\n",
    "\n",
    "Map"
   ]
  },
  {
   "cell_type": "code",
   "execution_count": null,
   "metadata": {},
   "outputs": [],
   "source": [
    "def featureCollection_init(feature):\n",
    "    tarimParse = feature.get(\"TarimParse\")\n",
    "    geometry = feature.geometry()\n",
    "    return ee.Feature(geometry).set(\"TarimParse\", tarimParse).set(\"mean_ndvi\", [])\n",
    "\n",
    "def collect_data(image, database):\n",
    "    def map_function(feature):\n",
    "        feature = ee.Feature(feature)\n",
    "        mean_ndvi = image.reduceRegion(\n",
    "            reducer=ee.Reducer.mean(),\n",
    "            geometry=feature.geometry(),\n",
    "            scale=30,\n",
    "            maxPixels=1e9\n",
    "        ).get(\"ndvi\")\n",
    "        \n",
    "        mean_ndvi_array = ee.List(feature.get(\"mean_ndvi\"))\n",
    "        mean_ndvi_array = mean_ndvi_array.add(mean_ndvi)\n",
    "        return feature.set(\"mean_ndvi\", mean_ndvi_array)\n",
    "    \n",
    "    return database.map(map_function)"
   ]
  },
  {
   "cell_type": "code",
   "execution_count": null,
   "metadata": {},
   "outputs": [],
   "source": [
    "database = parsel_data.distinct(\"TarimParse\").map(featureCollection_init)\n",
    "database = collect_data(image, database)\n"
   ]
  },
  {
   "cell_type": "code",
   "execution_count": null,
   "metadata": {},
   "outputs": [],
   "source": [
    "print(database.limit(100).getInfo())"
   ]
  }
 ],
 "metadata": {
  "kernelspec": {
   "display_name": "Python 3",
   "language": "python",
   "name": "python3"
  },
  "language_info": {
   "codemirror_mode": {
    "name": "ipython",
    "version": 3
   },
   "file_extension": ".py",
   "mimetype": "text/x-python",
   "name": "python",
   "nbconvert_exporter": "python",
   "pygments_lexer": "ipython3",
   "version": "3.9.13"
  }
 },
 "nbformat": 4,
 "nbformat_minor": 2
}
